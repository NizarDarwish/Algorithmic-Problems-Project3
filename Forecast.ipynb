{
 "cells": [
  {
   "cell_type": "code",
   "execution_count": 3,
   "metadata": {},
   "outputs": [],
   "source": [
    "import sys\n",
    "import math\n",
    "import matplotlib.pyplot as plt\n",
    "# import keras\n",
    "import pandas as pd\n",
    "import numpy as np\n",
    "# from keras.models import Sequential\n",
    "# from keras.layers import Dense\n",
    "# from keras.layers import LSTM\n",
    "# from keras.layers import Dropout\n",
    "# from keras.layers import *\n",
    "from sklearn.preprocessing import MinMaxScaler\n",
    "from sklearn.metrics import mean_squared_error\n",
    "from sklearn.metrics import mean_absolute_error\n",
    "from sklearn.model_selection import train_test_split\n",
    "# from keras.callbacks import EarlyStopping"
   ]
  },
  {
   "cell_type": "code",
   "execution_count": 15,
   "metadata": {},
   "outputs": [
    {
     "name": "stdout",
     "output_type": "stream",
     "text": [
      "Number of rows and columns: (359, 3651)\n"
     ]
    }
   ],
   "source": [
    "df=pd.read_csv(\"nasdaq2007_17.csv\", delimiter='\\t', header=None)\n",
    "print('Number of rows and columns:', df.shape)"
   ]
  },
  {
   "cell_type": "code",
   "execution_count": 16,
   "metadata": {},
   "outputs": [
    {
     "data": {
      "text/plain": [
       "0        brk-b\n",
       "1        49.04\n",
       "2        49.18\n",
       "3        48.98\n",
       "4        48.92\n",
       "         ...  \n",
       "3646    186.68\n",
       "3647     186.3\n",
       "3648     184.6\n",
       "3649    184.49\n",
       "3650    183.68\n",
       "Name: 59, Length: 3651, dtype: object"
      ]
     },
     "execution_count": 16,
     "metadata": {},
     "output_type": "execute_result"
    }
   ],
   "source": [
    "df.iloc[59]"
   ]
  }
 ],
 "metadata": {
  "interpreter": {
   "hash": "4ef5a282d45c89fcb4ba7a48af05632eda58dc44cf8afabc82aa25b250bcf0e0"
  },
  "kernelspec": {
   "display_name": "Python 3.10.0 64-bit",
   "language": "python",
   "name": "python3"
  },
  "language_info": {
   "codemirror_mode": {
    "name": "ipython",
    "version": 3
   },
   "file_extension": ".py",
   "mimetype": "text/x-python",
   "name": "python",
   "nbconvert_exporter": "python",
   "pygments_lexer": "ipython3",
   "version": "3.10.0"
  },
  "orig_nbformat": 4
 },
 "nbformat": 4,
 "nbformat_minor": 2
}
