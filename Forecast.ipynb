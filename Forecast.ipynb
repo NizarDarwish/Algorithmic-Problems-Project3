{
 "cells": [
  {
   "cell_type": "code",
   "execution_count": 1,
   "metadata": {},
   "outputs": [],
   "source": [
    "import sys\n",
    "import math\n",
    "import matplotlib.pyplot as plt\n",
    "# import keras\n",
    "import pandas as pd\n",
    "import numpy as np\n",
    "# from keras.models import Sequential\n",
    "# from keras.layers import Dense\n",
    "# from keras.layers import LSTM\n",
    "# from keras.layers import Dropout\n",
    "# from keras.layers import *\n",
    "from sklearn.preprocessing import MinMaxScaler\n",
    "from sklearn.metrics import mean_squared_error\n",
    "from sklearn.metrics import mean_absolute_error\n",
    "from sklearn.model_selection import train_test_split\n",
    "# from keras.callbacks import EarlyStopping"
   ]
  },
  {
   "cell_type": "code",
   "execution_count": 3,
   "metadata": {},
   "outputs": [
    {
     "name": "stdout",
     "output_type": "stream",
     "text": [
      "Number of rows and columns: (359, 3651)\n"
     ]
    }
   ],
   "source": [
    "df=pd.read_csv('nasdaq2007_17.csv', delimiter='\\t', header=None)\n",
    "print('Number of rows and columns:', df.shape)"
   ]
  },
  {
   "cell_type": "code",
   "execution_count": 13,
   "metadata": {},
   "outputs": [],
   "source": [
    "n = 100\n",
    "\n",
    "training_set = []\n",
    "test_set = []\n",
    "\n",
    "for i in range(0, n):\n",
    "  training_set.append(df.iloc[i, 1:int(0.8*df.shape[1])].values)\n",
    "  test_set.append(df.iloc[i, 1:int(0.2*df.shape[1])].values)\n",
    "  \n",
    "# Feature Scaling\n",
    "sc = MinMaxScaler(feature_range = (0, 1))\n",
    "\n",
    "training_set_scaled = sc.fit_transform(training_set)"
   ]
  },
  {
   "cell_type": "code",
   "execution_count": 28,
   "metadata": {},
   "outputs": [
    {
     "ename": "IndexError",
     "evalue": "tuple index out of range",
     "output_type": "error",
     "traceback": [
      "\u001b[1;31m---------------------------------------------------------------------------\u001b[0m",
      "\u001b[1;31mIndexError\u001b[0m                                Traceback (most recent call last)",
      "\u001b[1;32m~\\AppData\\Local\\Temp/ipykernel_19844/3063254169.py\u001b[0m in \u001b[0;36m<module>\u001b[1;34m\u001b[0m\n\u001b[0;32m      9\u001b[0m     \u001b[0mX_train\u001b[0m\u001b[1;33m,\u001b[0m \u001b[0my_train\u001b[0m \u001b[1;33m=\u001b[0m \u001b[0mnp\u001b[0m\u001b[1;33m.\u001b[0m\u001b[0marray\u001b[0m\u001b[1;33m(\u001b[0m\u001b[0mX_train\u001b[0m\u001b[1;33m)\u001b[0m\u001b[1;33m.\u001b[0m\u001b[0mflatten\u001b[0m\u001b[1;33m(\u001b[0m\u001b[1;33m)\u001b[0m\u001b[1;33m,\u001b[0m \u001b[0mnp\u001b[0m\u001b[1;33m.\u001b[0m\u001b[0marray\u001b[0m\u001b[1;33m(\u001b[0m\u001b[0my_train\u001b[0m\u001b[1;33m)\u001b[0m\u001b[1;33m.\u001b[0m\u001b[0mflatten\u001b[0m\u001b[1;33m(\u001b[0m\u001b[1;33m)\u001b[0m\u001b[1;33m\u001b[0m\u001b[1;33m\u001b[0m\u001b[0m\n\u001b[0;32m     10\u001b[0m \u001b[1;33m\u001b[0m\u001b[0m\n\u001b[1;32m---> 11\u001b[1;33m     \u001b[0mX_train\u001b[0m \u001b[1;33m=\u001b[0m \u001b[0mnp\u001b[0m\u001b[1;33m.\u001b[0m\u001b[0mreshape\u001b[0m\u001b[1;33m(\u001b[0m\u001b[0mX_train\u001b[0m\u001b[1;33m,\u001b[0m \u001b[1;33m(\u001b[0m\u001b[0mX_train\u001b[0m\u001b[1;33m.\u001b[0m\u001b[0mshape\u001b[0m\u001b[1;33m[\u001b[0m\u001b[1;36m0\u001b[0m\u001b[1;33m]\u001b[0m\u001b[1;33m,\u001b[0m \u001b[0mX_train\u001b[0m\u001b[1;33m.\u001b[0m\u001b[0mshape\u001b[0m\u001b[1;33m[\u001b[0m\u001b[1;36m1\u001b[0m\u001b[1;33m]\u001b[0m\u001b[1;33m,\u001b[0m \u001b[1;36m1\u001b[0m\u001b[1;33m)\u001b[0m\u001b[1;33m)\u001b[0m\u001b[1;33m\u001b[0m\u001b[1;33m\u001b[0m\u001b[0m\n\u001b[0m\u001b[0;32m     12\u001b[0m \u001b[1;33m\u001b[0m\u001b[0m\n\u001b[0;32m     13\u001b[0m     \u001b[0mtimetables\u001b[0m\u001b[1;33m[\u001b[0m\u001b[0mtimetable\u001b[0m\u001b[1;33m]\u001b[0m \u001b[1;33m=\u001b[0m \u001b[1;33m[\u001b[0m\u001b[0mX_train\u001b[0m\u001b[1;33m,\u001b[0m \u001b[0my_train\u001b[0m\u001b[1;33m]\u001b[0m\u001b[1;33m\u001b[0m\u001b[1;33m\u001b[0m\u001b[0m\n",
      "\u001b[1;31mIndexError\u001b[0m: tuple index out of range"
     ]
    }
   ],
   "source": [
    "# Creating a data structure with 10 time-steps and n outputs\n",
    "timetables = {}\n",
    "for timetable in range(0, n):\n",
    "    X_train = []\n",
    "    y_train = []\n",
    "    for i in range(10, int(0.8*df.shape[1] - 1)):\n",
    "        X_train.append(training_set_scaled[timetable, i-10:i])\n",
    "        y_train.append(training_set_scaled[timetable, i])\n",
    "    X_train, y_train = np.array(X_train), np.array(y_train)\n",
    "\n",
    "    X_train = np.reshape(X_train, (X_train.shape[0], X_train.shape[1], 1))\n",
    "    \n",
    "    timetables[timetable] = [X_train, y_train]"
   ]
  },
  {
   "cell_type": "code",
   "execution_count": 25,
   "metadata": {},
   "outputs": [
    {
     "name": "stdout",
     "output_type": "stream",
     "text": [
      "[array([[[0.00013506],\n",
      "        [0.00012661],\n",
      "        [0.00013185],\n",
      "        ...,\n",
      "        [0.00014576],\n",
      "        [0.00014763],\n",
      "        [0.00015466]],\n",
      "\n",
      "       [[0.00012661],\n",
      "        [0.00013185],\n",
      "        [0.00013017],\n",
      "        ...,\n",
      "        [0.00014763],\n",
      "        [0.00015466],\n",
      "        [0.00016234]],\n",
      "\n",
      "       [[0.00013185],\n",
      "        [0.00013017],\n",
      "        [0.00013347],\n",
      "        ...,\n",
      "        [0.00015466],\n",
      "        [0.00016234],\n",
      "        [0.00016529]],\n",
      "\n",
      "       ...,\n",
      "\n",
      "       [[0.00016926],\n",
      "        [0.00016903],\n",
      "        [0.00017024],\n",
      "        ...,\n",
      "        [0.00016384],\n",
      "        [0.00016416],\n",
      "        [0.00016439]],\n",
      "\n",
      "       [[0.00016903],\n",
      "        [0.00017024],\n",
      "        [0.00017008],\n",
      "        ...,\n",
      "        [0.00016416],\n",
      "        [0.00016439],\n",
      "        [0.00015997]],\n",
      "\n",
      "       [[0.00017024],\n",
      "        [0.00017008],\n",
      "        [0.00017002],\n",
      "        ...,\n",
      "        [0.00016439],\n",
      "        [0.00015997],\n",
      "        [0.00015933]]]), array([0.00016234, 0.00016529, 0.00016985, ..., 0.00015997, 0.00015933,\n",
      "       0.00016163])]\n"
     ]
    }
   ],
   "source": [
    "print(timetables[0])"
   ]
  }
 ],
 "metadata": {
  "interpreter": {
   "hash": "4ef5a282d45c89fcb4ba7a48af05632eda58dc44cf8afabc82aa25b250bcf0e0"
  },
  "kernelspec": {
   "display_name": "Python 3.10.0 64-bit",
   "language": "python",
   "name": "python3"
  },
  "language_info": {
   "codemirror_mode": {
    "name": "ipython",
    "version": 3
   },
   "file_extension": ".py",
   "mimetype": "text/x-python",
   "name": "python",
   "nbconvert_exporter": "python",
   "pygments_lexer": "ipython3",
   "version": "3.10.0"
  },
  "orig_nbformat": 4
 },
 "nbformat": 4,
 "nbformat_minor": 2
}
